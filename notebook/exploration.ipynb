{
 "cells": [
  {
   "cell_type": "code",
   "execution_count": 1,
   "id": "205efc90",
   "metadata": {},
   "outputs": [
    {
     "data": {
      "text/plain": [
       "True"
      ]
     },
     "execution_count": 1,
     "metadata": {},
     "output_type": "execute_result"
    }
   ],
   "source": [
    "from dotenv import load_dotenv\n",
    "load_dotenv()\n"
   ]
  },
  {
   "cell_type": "code",
   "execution_count": 3,
   "id": "867f1db2",
   "metadata": {},
   "outputs": [],
   "source": [
    "import sys\n",
    "import os\n",
    "\n",
    "# Dynamically add the RentWise-Matcher root directory to Python path\n",
    "project_root = os.path.abspath(os.path.join(os.getcwd(), \"..\"))\n",
    "if project_root not in sys.path:\n",
    "    sys.path.append(project_root)\n"
   ]
  },
  {
   "cell_type": "code",
   "execution_count": 4,
   "id": "af94e9ba",
   "metadata": {},
   "outputs": [],
   "source": [
    "# Import from your updated structure\n",
    "from utils.data_loader import load_profiles\n",
    "from utils.preprocess import preprocess_profile\n",
    "from llm_engine.summarizer import summarize_profile\n",
    "from llm_engine.matcher import compare_profiles"
   ]
  },
  {
   "cell_type": "code",
   "execution_count": 5,
   "id": "020f436e",
   "metadata": {},
   "outputs": [
    {
     "data": {
      "text/plain": [
       "'c:\\\\Users\\\\Hp\\\\LANGCHAIN\\\\RentWise-Matcher\\\\notebook'"
      ]
     },
     "execution_count": 5,
     "metadata": {},
     "output_type": "execute_result"
    }
   ],
   "source": [
    "%pwd"
   ]
  },
  {
   "cell_type": "code",
   "execution_count": 6,
   "id": "10ceba63",
   "metadata": {},
   "outputs": [],
   "source": [
    "os.chdir('c:\\\\Users\\\\Hp\\\\LANGCHAIN\\\\RentWise-Matcher')"
   ]
  },
  {
   "cell_type": "code",
   "execution_count": 6,
   "id": "1166ade1",
   "metadata": {},
   "outputs": [
    {
     "data": {
      "text/plain": [
       "'c:\\\\Users\\\\Hp\\\\LANGCHAIN\\\\RentWise-Matcher'"
      ]
     },
     "execution_count": 6,
     "metadata": {},
     "output_type": "execute_result"
    }
   ],
   "source": [
    "%pwd"
   ]
  },
  {
   "cell_type": "code",
   "execution_count": 7,
   "id": "8a2a353e",
   "metadata": {},
   "outputs": [],
   "source": [
    "df = load_profiles(\"data/raw/roommate_profiles.csv\")"
   ]
  },
  {
   "cell_type": "code",
   "execution_count": 8,
   "id": "c10c85fd",
   "metadata": {},
   "outputs": [
    {
     "name": "stdout",
     "output_type": "stream",
     "text": [
      "Name                       object\n",
      "Age                         int64\n",
      "Gender                     object\n",
      "City                       object\n",
      "Food_Preference            object\n",
      "Sleep_Schedule             object\n",
      "Cleanliness_Level          object\n",
      "Smoking_Drinking           object\n",
      "Personality_Description    object\n",
      "Ideal_Roommate             object\n",
      "dtype: object\n",
      "\n",
      "Column: Name\n",
      "Name\n",
      "<class 'str'>    500\n",
      "Name: count, dtype: int64\n",
      "\n",
      "Column: Gender\n",
      "Gender\n",
      "<class 'str'>    500\n",
      "Name: count, dtype: int64\n",
      "\n",
      "Column: City\n",
      "City\n",
      "<class 'str'>    500\n",
      "Name: count, dtype: int64\n",
      "\n",
      "Column: Food_Preference\n",
      "Food_Preference\n",
      "<class 'str'>    500\n",
      "Name: count, dtype: int64\n",
      "\n",
      "Column: Sleep_Schedule\n",
      "Sleep_Schedule\n",
      "<class 'str'>    500\n",
      "Name: count, dtype: int64\n",
      "\n",
      "Column: Cleanliness_Level\n",
      "Cleanliness_Level\n",
      "<class 'str'>    500\n",
      "Name: count, dtype: int64\n",
      "\n",
      "Column: Smoking_Drinking\n",
      "Smoking_Drinking\n",
      "<class 'str'>    500\n",
      "Name: count, dtype: int64\n",
      "\n",
      "Column: Personality_Description\n",
      "Personality_Description\n",
      "<class 'str'>    500\n",
      "Name: count, dtype: int64\n",
      "\n",
      "Column: Ideal_Roommate\n",
      "Ideal_Roommate\n",
      "<class 'str'>    500\n",
      "Name: count, dtype: int64\n"
     ]
    }
   ],
   "source": [
    "# This will give you the dtype of each column\n",
    "print(df.dtypes)\n",
    "\n",
    "# This shows the types of actual elements (helpful for object dtype columns)\n",
    "for col in df.select_dtypes(include='object').columns:\n",
    "    print(f\"\\nColumn: {col}\")\n",
    "    print(df[col].apply(type).value_counts())"
   ]
  },
  {
   "cell_type": "code",
   "execution_count": 8,
   "id": "94c34cce",
   "metadata": {},
   "outputs": [],
   "source": [
    "#profile_0 = preprocess_profile(df.iloc[0].to_dict())\n",
    "#profile_1 = preprocess_profile(df.iloc[1].to_dict())"
   ]
  },
  {
   "cell_type": "code",
   "execution_count": 9,
   "id": "f38306c6",
   "metadata": {},
   "outputs": [],
   "source": [
    "#print(\"🎯 Summary for Profile 0:\")\n",
    "#summary_0 = summarize_profile(profile_0)\n",
    "#print(summary_0)\n"
   ]
  },
  {
   "cell_type": "code",
   "execution_count": null,
   "id": "15e4ff62",
   "metadata": {},
   "outputs": [],
   "source": [
    "import pandas as pd\n",
    "from tqdm import tqdm\n",
    "from llm_engine.summarizer import summarize_profile\n",
    "\n",
    "# Load dataset\n",
    "df = pd.read_csv(\"data/raw/roommate_profiles.csv\")\n",
    "\n",
    "# List to store summaries\n",
    "summaries = []\n",
    "\n",
    "# Loop through each profile and generate summary\n",
    "for i in tqdm(range(len(df))):\n",
    "    profile = df.iloc[i].to_dict()\n",
    "    summary = summarize_profile(profile)\n",
    "    summaries.append(summary)\n",
    "\n",
    "# Add summaries as new column\n",
    "df[\"Summary\"] = summaries\n",
    "\n",
    "# Save to processed folder\n",
    "df.to_csv(\"data/processed/profiles_with_summaries.csv\", index=False)\n",
    "\n",
    "print(\"✅ Summaries generated and saved to data/processed/profiles_with_summaries.csv\")\n"
   ]
  },
  {
   "cell_type": "code",
   "execution_count": 12,
   "id": "7d19f2a0",
   "metadata": {},
   "outputs": [
    {
     "name": "stdout",
     "output_type": "stream",
     "text": [
      "✅ matcher.py loaded with score_compatibility\n",
      "🧪 Compatibility Result:\n",
      " Score: 70\n",
      "Reason: User2824 and User2424 have similar food preferences and sleep schedules, which can make living together easier. However, their personalities and ideal roommate preferences are quite different. User2824 is an extroverted individual who enjoys socializing and late-night discussions, while User2424 is more focused on studying and needs a cooperative environment. This difference in lifestyle preferences may lead to potential conflicts in the long run.\n"
     ]
    }
   ],
   "source": [
    "from llm_engine.matcher import score_compatibility\n",
    "\n",
    "profile_0 = df.iloc[0].to_dict()\n",
    "profile_1 = df.iloc[1].to_dict()\n",
    "\n",
    "compatibility_result = score_compatibility(profile_0, profile_1)\n",
    "print(\"🧪 Compatibility Result:\\n\", compatibility_result)"
   ]
  },
  {
   "cell_type": "code",
   "execution_count": 1,
   "id": "fc23dd39",
   "metadata": {},
   "outputs": [
    {
     "name": "stdout",
     "output_type": "stream",
     "text": [
      "Current working directory: c:\\Users\\Hp\\LANGCHAIN\\RentWise-Matcher\\notebook\n"
     ]
    }
   ],
   "source": [
    "import os\n",
    "print(\"Current working directory:\", os.getcwd())"
   ]
  },
  {
   "cell_type": "code",
   "execution_count": null,
   "id": "d3f63776",
   "metadata": {},
   "outputs": [],
   "source": [
    "print(df.dtypes)\n",
    "\n",
    "# This shows the types of actual elements (helpful for object dtype columns)\n",
    "for col in df.select_dtypes(include='object').columns:\n",
    "    print(f\"\\nColumn: {col}\")\n",
    "    print(df[col].apply(type).value_counts())"
   ]
  }
 ],
 "metadata": {
  "kernelspec": {
   "display_name": "Python 3",
   "language": "python",
   "name": "python3"
  },
  "language_info": {
   "codemirror_mode": {
    "name": "ipython",
    "version": 3
   },
   "file_extension": ".py",
   "mimetype": "text/x-python",
   "name": "python",
   "nbconvert_exporter": "python",
   "pygments_lexer": "ipython3",
   "version": "3.10.0"
  }
 },
 "nbformat": 4,
 "nbformat_minor": 5
}
